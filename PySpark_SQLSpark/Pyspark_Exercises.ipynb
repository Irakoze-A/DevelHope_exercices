{
  "cells": [
    {
      "cell_type": "code",
      "execution_count": 1,
      "metadata": {
        "colab": {
          "base_uri": "https://localhost:8080/"
        },
        "id": "gtBUzrvu55ZF",
        "outputId": "1dec45c7-b50b-4788-fb6a-876d3e6dada2"
      },
      "outputs": [
        {
          "output_type": "stream",
          "name": "stdout",
          "text": [
            "Looking in indexes: https://pypi.org/simple, https://us-python.pkg.dev/colab-wheels/public/simple/\n",
            "Collecting pyspark\n",
            "  Downloading pyspark-3.4.0.tar.gz (310.8 MB)\n",
            "\u001b[2K     \u001b[90m━━━━━━━━━━━━━━━━━━━━━━━━━━━━━━━━━━━━━━━\u001b[0m \u001b[32m310.8/310.8 MB\u001b[0m \u001b[31m4.6 MB/s\u001b[0m eta \u001b[36m0:00:00\u001b[0m\n",
            "\u001b[?25h  Preparing metadata (setup.py) ... \u001b[?25l\u001b[?25hdone\n",
            "Requirement already satisfied: py4j==0.10.9.7 in /usr/local/lib/python3.10/dist-packages (from pyspark) (0.10.9.7)\n",
            "Building wheels for collected packages: pyspark\n",
            "  Building wheel for pyspark (setup.py) ... \u001b[?25l\u001b[?25hdone\n",
            "  Created wheel for pyspark: filename=pyspark-3.4.0-py2.py3-none-any.whl size=311317130 sha256=f9b1ad13cb5fea4da73353cb1fd74acb2536a90d567aec11dc9d41e26c110ebb\n",
            "  Stored in directory: /root/.cache/pip/wheels/7b/1b/4b/3363a1d04368e7ff0d408e57ff57966fcdf00583774e761327\n",
            "Successfully built pyspark\n",
            "Installing collected packages: pyspark\n",
            "Successfully installed pyspark-3.4.0\n"
          ]
        }
      ],
      "source": [
        "!pip install pyspark "
      ],
      "id": "gtBUzrvu55ZF"
    },
    {
      "cell_type": "code",
      "execution_count": 2,
      "metadata": {
        "id": "9d867484"
      },
      "outputs": [],
      "source": [
        "import pyspark\n",
        "from pyspark.sql import SparkSession"
      ],
      "id": "9d867484"
    },
    {
      "cell_type": "code",
      "execution_count": 3,
      "metadata": {
        "colab": {
          "base_uri": "https://localhost:8080/"
        },
        "id": "KRteO0It6iAC",
        "outputId": "d13ab8b3-41aa-4716-a989-48b3572f2851"
      },
      "outputs": [
        {
          "output_type": "stream",
          "name": "stdout",
          "text": [
            "Mounted at /content/drive\n"
          ]
        }
      ],
      "source": [
        "from google.colab import drive\n",
        "drive.mount('/content/drive')"
      ],
      "id": "KRteO0It6iAC"
    },
    {
      "cell_type": "code",
      "execution_count": 4,
      "metadata": {
        "id": "18cf8dbd"
      },
      "outputs": [],
      "source": [
        "spark = SparkSession.builder.master(\"local[*]\").appName(\"Datamanipulation\").getOrCreate()"
      ],
      "id": "18cf8dbd"
    },
    {
      "cell_type": "code",
      "execution_count": 5,
      "metadata": {
        "colab": {
          "base_uri": "https://localhost:8080/",
          "height": 219
        },
        "id": "9e64796c",
        "outputId": "ce066246-e7b1-45e0-920f-aa2d4a41d2a5"
      },
      "outputs": [
        {
          "output_type": "execute_result",
          "data": {
            "text/plain": [
              "<pyspark.sql.session.SparkSession at 0x7f11bbc400a0>"
            ],
            "text/html": [
              "\n",
              "            <div>\n",
              "                <p><b>SparkSession - in-memory</b></p>\n",
              "                \n",
              "        <div>\n",
              "            <p><b>SparkContext</b></p>\n",
              "\n",
              "            <p><a href=\"http://b71537edb24a:4040\">Spark UI</a></p>\n",
              "\n",
              "            <dl>\n",
              "              <dt>Version</dt>\n",
              "                <dd><code>v3.4.0</code></dd>\n",
              "              <dt>Master</dt>\n",
              "                <dd><code>local[*]</code></dd>\n",
              "              <dt>AppName</dt>\n",
              "                <dd><code>Datamanipulation</code></dd>\n",
              "            </dl>\n",
              "        </div>\n",
              "        \n",
              "            </div>\n",
              "        "
            ]
          },
          "metadata": {},
          "execution_count": 5
        }
      ],
      "source": [
        "spark"
      ],
      "id": "9e64796c"
    },
    {
      "cell_type": "code",
      "execution_count": 6,
      "metadata": {
        "id": "1cb29770"
      },
      "outputs": [],
      "source": [
        "# read our data - lives in a csv file\n",
        "\n",
        "df = spark.read.option(\"header\",\"true\").csv(\"/content/drive/MyDrive/DevelHope/ETL exercice/Sample - EU Superstore.csv\")"
      ],
      "id": "1cb29770"
    },
    {
      "cell_type": "code",
      "execution_count": 7,
      "metadata": {
        "id": "6c800030"
      },
      "outputs": [],
      "source": [
        "# how many rows of the EU Superstore dataset have the country being France\n"
      ],
      "id": "6c800030"
    },
    {
      "cell_type": "code",
      "execution_count": 8,
      "metadata": {
        "colab": {
          "base_uri": "https://localhost:8080/"
        },
        "id": "pM0laiNj63UK",
        "outputId": "272e948b-2382-4d31-f772-4b103b5edf32"
      },
      "outputs": [
        {
          "output_type": "execute_result",
          "data": {
            "text/plain": [
              "2827"
            ]
          },
          "metadata": {},
          "execution_count": 8
        }
      ],
      "source": [
        "df.filter(df['Country']=='France').count()"
      ],
      "id": "pM0laiNj63UK"
    },
    {
      "cell_type": "code",
      "execution_count": 9,
      "metadata": {
        "colab": {
          "base_uri": "https://localhost:8080/"
        },
        "id": "648e5f8a",
        "outputId": "7eafd6f1-5668-4786-a42f-53424e40b0e1"
      },
      "outputs": [
        {
          "output_type": "execute_result",
          "data": {
            "text/plain": [
              "2277"
            ]
          },
          "metadata": {},
          "execution_count": 9
        }
      ],
      "source": [
        "# of those, how many are profitable?\n",
        "df.filter(( df['Country']=='France' ) &  (df['Profit'] > 0)).count()\n"
      ],
      "id": "648e5f8a"
    },
    {
      "cell_type": "code",
      "execution_count": 10,
      "metadata": {
        "colab": {
          "base_uri": "https://localhost:8080/"
        },
        "id": "ca611b93",
        "outputId": "6fedacfd-3534-46d4-fd04-0c9345f443cd"
      },
      "outputs": [
        {
          "output_type": "execute_result",
          "data": {
            "text/plain": [
              "14"
            ]
          },
          "metadata": {},
          "execution_count": 10
        }
      ],
      "source": [
        "# how any different discount brackets exist? what are they?\n",
        "df.select('Discount').distinct().count()"
      ],
      "id": "ca611b93"
    },
    {
      "cell_type": "code",
      "execution_count": 11,
      "metadata": {
        "colab": {
          "base_uri": "https://localhost:8080/"
        },
        "id": "thRYbMFl9T3T",
        "outputId": "57383498-e542-4973-8e0c-0cf3c7a4e464"
      },
      "outputs": [
        {
          "output_type": "stream",
          "name": "stdout",
          "text": [
            "+------+---------------+----------+----------+--------------+-----------+--------------+---------+-----+-------+--------------+------+---------------+---------------+------------+--------------------+------+--------+--------+------+\n",
            "|Row ID|       Order ID|Order Date| Ship Date|     Ship Mode|Customer ID| Customer Name|  Segment| City|  State|       Country|Region|     Product ID|       Category|Sub-Category|        Product Name| Sales|Quantity|Discount|Profit|\n",
            "+------+---------------+----------+----------+--------------+-----------+--------------+---------+-----+-------+--------------+------+---------------+---------------+------------+--------------------+------+--------+--------+------+\n",
            "|     1|ES-2017-1311038|07/02/2017|11/02/2017|Standard Class|   AS-10045|Aaron Smayling|Corporate|Leeds|England|United Kingdom| North|OFF-ST-10000988|Office Supplies|     Storage|Fellowes Folders,...|  79.2|       3|       0|  39.6|\n",
            "|     2|ES-2017-1311038|07/02/2017|11/02/2017|Standard Class|   AS-10045|Aaron Smayling|Corporate|Leeds|England|United Kingdom| North|TEC-AC-10004144|     Technology| Accessories|SanDisk Numeric K...|388.92|       7|       0|     0|\n",
            "|     3|ES-2017-1311038|07/02/2017|11/02/2017|Standard Class|   AS-10045|Aaron Smayling|Corporate|Leeds|England|United Kingdom| North|OFF-LA-10001915|Office Supplies|      Labels|Avery Legal Exhib...| 35.19|       3|       0| 16.11|\n",
            "+------+---------------+----------+----------+--------------+-----------+--------------+---------+-----+-------+--------------+------+---------------+---------------+------------+--------------------+------+--------+--------+------+\n",
            "only showing top 3 rows\n",
            "\n"
          ]
        }
      ],
      "source": [
        "df.show(3)"
      ],
      "id": "thRYbMFl9T3T"
    },
    {
      "cell_type": "code",
      "execution_count": 12,
      "metadata": {
        "colab": {
          "base_uri": "https://localhost:8080/"
        },
        "id": "b2e1f9f0",
        "outputId": "edf1bc38-7b12-4440-b541-8bf6936e94ee"
      },
      "outputs": [
        {
          "output_type": "stream",
          "name": "stdout",
          "text": [
            "+--------+-------------------+\n",
            "|Discount|        sum(Profit)|\n",
            "+--------+-------------------+\n",
            "|     0.5|         -96632.115|\n",
            "|     0.4|-21346.427999999996|\n",
            "|     0.6|-20517.456000000002|\n",
            "|    0.35|          -9122.649|\n",
            "|    0.65| -6221.965499999999|\n",
            "|     0.7|          -5496.765|\n",
            "|    0.85|          -3068.658|\n",
            "|    0.45|         -1103.1915|\n",
            "|     0.3| -758.4209999999999|\n",
            "|     0.8|           -460.284|\n",
            "|     0.2| 2189.5499999999984|\n",
            "|    0.15| 24677.563499999975|\n",
            "|     0.1|  126884.0309999999|\n",
            "|       0| 383806.53000000026|\n",
            "+--------+-------------------+\n",
            "\n"
          ]
        }
      ],
      "source": [
        "# let's see the totl profit by discount bracket, make sure they are ordered by \n",
        "df.groupBy('Discount').agg({'Profit':'sum'}).orderBy('sum(Profit)').show()"
      ],
      "id": "b2e1f9f0"
    },
    {
      "cell_type": "code",
      "execution_count": 13,
      "metadata": {
        "colab": {
          "base_uri": "https://localhost:8080/"
        },
        "id": "d1d76050",
        "outputId": "0319889e-3e40-42d1-ae46-e38155beeb9d"
      },
      "outputs": [
        {
          "output_type": "execute_result",
          "data": {
            "text/plain": [
              "0.2"
            ]
          },
          "metadata": {},
          "execution_count": 13
        }
      ],
      "source": [
        "# what is the value after which we should stop offering discount?\n",
        "0.2"
      ],
      "id": "d1d76050"
    },
    {
      "cell_type": "code",
      "execution_count": 14,
      "metadata": {
        "id": "aae94ee1"
      },
      "outputs": [],
      "source": [
        "# who are the top 5 most profitable customers"
      ],
      "id": "aae94ee1"
    },
    {
      "cell_type": "code",
      "source": [
        "customers = df.groupBy(\"Customer Name\").count().orderBy('count', ascending=False)\n",
        "customers.show(5)"
      ],
      "metadata": {
        "colab": {
          "base_uri": "https://localhost:8080/"
        },
        "id": "bu-K7wkAOYku",
        "outputId": "93ced1b2-c54c-4f43-c392-012a54cc6ecb"
      },
      "id": "bu-K7wkAOYku",
      "execution_count": 15,
      "outputs": [
        {
          "output_type": "stream",
          "name": "stdout",
          "text": [
            "+-------------+-----+\n",
            "|Customer Name|count|\n",
            "+-------------+-----+\n",
            "|Becky Castell|   37|\n",
            "|   John Grady|   35|\n",
            "| Mathew Reese|   34|\n",
            "|Michael Paige|   33|\n",
            "|  John Murray|   32|\n",
            "+-------------+-----+\n",
            "only showing top 5 rows\n",
            "\n"
          ]
        }
      ]
    },
    {
      "cell_type": "code",
      "execution_count": 16,
      "metadata": {
        "id": "277c465a",
        "colab": {
          "base_uri": "https://localhost:8080/"
        },
        "outputId": "0f97e41c-9348-487c-ba66-d1bc5ba77ce8"
      },
      "outputs": [
        {
          "output_type": "execute_result",
          "data": {
            "text/plain": [
              "['Becky Castell', 'John Grady', 'Mathew Reese', 'Michael Paige', 'John Murray']"
            ]
          },
          "metadata": {},
          "execution_count": 16
        }
      ],
      "source": [
        "# get all the rows belonging to those 5 customer names: hint, you may need the collect method - how many rows are they?\n",
        "top5 = customers.collect()[:5]\n",
        "names = [name[0] for name in top5]\n",
        "names"
      ],
      "id": "277c465a"
    },
    {
      "cell_type": "code",
      "source": [
        "res = df[df['Customer Name'].isin(names)]\n",
        "res.show()"
      ],
      "metadata": {
        "colab": {
          "base_uri": "https://localhost:8080/"
        },
        "id": "X1lNtmt7QM73",
        "outputId": "ed069d7a-59be-48a3-f096-3d9314a8e082"
      },
      "id": "X1lNtmt7QM73",
      "execution_count": 17,
      "outputs": [
        {
          "output_type": "stream",
          "name": "stdout",
          "text": [
            "+------+---------------+----------+----------+--------------+-----------+-------------+-----------+-------------+--------------------+--------------+-------+---------------+---------------+------------+--------------------+--------+--------+--------+--------+\n",
            "|Row ID|       Order ID|Order Date| Ship Date|     Ship Mode|Customer ID|Customer Name|    Segment|         City|               State|       Country| Region|     Product ID|       Category|Sub-Category|        Product Name|   Sales|Quantity|Discount|  Profit|\n",
            "+------+---------------+----------+----------+--------------+-----------+-------------+-----------+-------------+--------------------+--------------+-------+---------------+---------------+------------+--------------------+--------+--------+--------+--------+\n",
            "|   162|ES-2017-5347900|18/03/2017|18/03/2017|      Same Day|   MP-17965|Michael Paige|  Corporate|         Cork|                Cork|       Ireland|  North|OFF-AR-10001482|Office Supplies|         Art|Stanley Markers, ...|   67.41|       6|     0.5|  -67.41|\n",
            "|   177|IT-2016-2720003|04/12/2016|06/12/2016|   First Class|   MR-17545| Mathew Reese|Home Office|        Trier|Rhineland-Palatinate|       Germany|Central|FUR-BO-10002632|      Furniture|   Bookcases|Sauder Corner She...| 401.355|       3|     0.1|  44.595|\n",
            "|   178|IT-2016-2720003|04/12/2016|06/12/2016|   First Class|   MR-17545| Mathew Reese|Home Office|        Trier|Rhineland-Palatinate|       Germany|Central|OFF-EN-10000556|Office Supplies|   Envelopes|Kraft Interoffice...|   49.32|       1|       0|    4.92|\n",
            "|   280|ES-2017-2282871|17/01/2017|23/01/2017|Standard Class|   JG-15805|   John Grady|  Corporate|         Metz|Alsace-Champagne-...|        France|Central|OFF-BI-10000563|Office Supplies|     Binders|Acco Hole Reinfor...|   24.48|       3|       0|   11.43|\n",
            "|   281|ES-2017-2282871|17/01/2017|23/01/2017|Standard Class|   JG-15805|   John Grady|  Corporate|         Metz|Alsace-Champagne-...|        France|Central|OFF-ST-10001974|Office Supplies|     Storage|Rogers File Cart,...|   637.2|       5|     0.1|    49.5|\n",
            "|   282|ES-2017-2282871|17/01/2017|23/01/2017|Standard Class|   JG-15805|   John Grady|  Corporate|         Metz|Alsace-Champagne-...|        France|Central|OFF-AR-10000594|Office Supplies|         Art|Binney & Smith Hi...|   79.08|       4|       0|   33.12|\n",
            "|   906|ES-2017-5848816|30/06/2017|04/07/2017|Standard Class|   BC-11125|Becky Castell|Home Office|        Ceuta|               Ceuta|         Spain|  South|OFF-BI-10002935|Office Supplies|     Binders|Wilson Jones Bind...|   37.44|       3|       0|    2.97|\n",
            "|   907|ES-2017-5848816|30/06/2017|04/07/2017|Standard Class|   BC-11125|Becky Castell|Home Office|        Ceuta|               Ceuta|         Spain|  South|TEC-PH-10003683|     Technology|      Phones|Motorola Audio Do...|  780.57|       5|     0.1|  164.67|\n",
            "|   908|ES-2017-5848816|30/06/2017|04/07/2017|Standard Class|   BC-11125|Becky Castell|Home Office|        Ceuta|               Ceuta|         Spain|  South|OFF-LA-10002651|Office Supplies|      Labels|Novimex Round Lab...|   12.51|       3|       0|    3.42|\n",
            "|   909|ES-2017-5848816|30/06/2017|04/07/2017|Standard Class|   BC-11125|Becky Castell|Home Office|        Ceuta|               Ceuta|         Spain|  South|OFF-FA-10002895|Office Supplies|   Fasteners|Accos Staples, 12...|   41.52|       4|       0|    8.64|\n",
            "|   910|ES-2017-5848816|30/06/2017|04/07/2017|Standard Class|   BC-11125|Becky Castell|Home Office|        Ceuta|               Ceuta|         Spain|  South|TEC-MA-10003261|     Technology|    Machines|Panasonic Phone, ...|  76.464|       1|     0.1|  30.564|\n",
            "|   911|ES-2017-5848816|30/06/2017|04/07/2017|Standard Class|   BC-11125|Becky Castell|Home Office|        Ceuta|               Ceuta|         Spain|  South|OFF-AR-10003633|Office Supplies|         Art|Binney & Smith Ca...|  464.67|       9|       0|   78.84|\n",
            "|   912|ES-2017-5848816|30/06/2017|04/07/2017|Standard Class|   BC-11125|Becky Castell|Home Office|        Ceuta|               Ceuta|         Spain|  South|OFF-BI-10002083|Office Supplies|     Binders|Acco Hole Reinfor...|    33.3|       5|       0|    2.85|\n",
            "|  1386|ES-2017-1343492|05/11/2017|10/11/2017|  Second Class|   MP-17965|Michael Paige|  Corporate|     Nanterre|       Ile-de-France|        France|Central|OFF-PA-10004343|Office Supplies|       Paper|Enermax Memo Slip...|   46.98|       3|       0|     0.9|\n",
            "|  1610|ES-2017-2298874|20/11/2017|24/11/2017|Standard Class|   BC-11125|Becky Castell|Home Office|     Coventry|             England|United Kingdom|  North|OFF-BI-10003616|Office Supplies|     Binders|Avery Binding Mac...|   144.9|       3|       0|   17.37|\n",
            "|  1611|ES-2017-2298874|20/11/2017|24/11/2017|Standard Class|   BC-11125|Becky Castell|Home Office|     Coventry|             England|United Kingdom|  North|TEC-PH-10000490|     Technology|      Phones|Motorola Audio Do...|  523.98|       3|       0|  157.14|\n",
            "|  1612|ES-2017-2298874|20/11/2017|24/11/2017|Standard Class|   BC-11125|Becky Castell|Home Office|     Coventry|             England|United Kingdom|  North|TEC-PH-10001574|     Technology|      Phones|Nokia Audio Dock,...|  508.77|       3|       0|   101.7|\n",
            "|  1734|ES-2017-5916291|29/08/2017|05/09/2017|Standard Class|   MP-17965|Michael Paige|  Corporate|         Rome|               Lazio|         Italy|  South|OFF-AR-10002165|Office Supplies|         Art|Boston Sketch Pad...|   249.3|       5|       0|       0|\n",
            "|  1900|ES-2017-3182169|06/02/2017|10/02/2017|Standard Class|   MR-17545| Mathew Reese|Home Office|      Rostock|Mecklenburg-Vorpo...|       Germany|Central|TEC-CO-10000854|     Technology|     Copiers|Canon Personal Co...|  576.72|       4|       0|    28.8|\n",
            "|  1974|IT-2016-2274165|02/05/2016|06/05/2016|Standard Class|   JM-15865|  John Murray|   Consumer|Gennevilliers|       Ile-de-France|        France|Central|TEC-CO-10003516|     Technology|     Copiers|Sharp Ink, High-S...|312.6555|       3|    0.15|-25.8345|\n",
            "+------+---------------+----------+----------+--------------+-----------+-------------+-----------+-------------+--------------------+--------------+-------+---------------+---------------+------------+--------------------+--------+--------+--------+--------+\n",
            "only showing top 20 rows\n",
            "\n"
          ]
        }
      ]
    },
    {
      "cell_type": "code",
      "source": [
        "res.count()"
      ],
      "metadata": {
        "colab": {
          "base_uri": "https://localhost:8080/"
        },
        "id": "LtqrMIUEQVv4",
        "outputId": "2a1402ce-0f77-449f-8116-3ccf4083addf"
      },
      "id": "LtqrMIUEQVv4",
      "execution_count": 18,
      "outputs": [
        {
          "output_type": "execute_result",
          "data": {
            "text/plain": [
              "171"
            ]
          },
          "metadata": {},
          "execution_count": 18
        }
      ]
    },
    {
      "cell_type": "code",
      "execution_count": 19,
      "metadata": {
        "id": "8d0fc034",
        "colab": {
          "base_uri": "https://localhost:8080/"
        },
        "outputId": "4267d86b-952b-4dc6-a7da-0bec5843f128"
      },
      "outputs": [
        {
          "output_type": "stream",
          "name": "stdout",
          "text": [
            "+------+---------------+----------+----------+--------------+-----------+--------------+---------+-----+-------+--------------+------+---------------+---------------+------------+--------------------+------+--------+--------+------+--------------+\n",
            "|Row ID|       Order ID|Order Date| Ship Date|     Ship Mode|Customer ID| Customer Name|  Segment| City|  State|       Country|Region|     Product ID|       Category|Sub-Category|        Product Name| Sales|Quantity|Discount|Profit|Original_sales|\n",
            "+------+---------------+----------+----------+--------------+-----------+--------------+---------+-----+-------+--------------+------+---------------+---------------+------------+--------------------+------+--------+--------+------+--------------+\n",
            "|     1|ES-2017-1311038|07/02/2017|11/02/2017|Standard Class|   AS-10045|Aaron Smayling|Corporate|Leeds|England|United Kingdom| North|OFF-ST-10000988|Office Supplies|     Storage|Fellowes Folders,...|  79.2|       3|       0|  39.6|          79.2|\n",
            "|     2|ES-2017-1311038|07/02/2017|11/02/2017|Standard Class|   AS-10045|Aaron Smayling|Corporate|Leeds|England|United Kingdom| North|TEC-AC-10004144|     Technology| Accessories|SanDisk Numeric K...|388.92|       7|       0|     0|        388.92|\n",
            "|     3|ES-2017-1311038|07/02/2017|11/02/2017|Standard Class|   AS-10045|Aaron Smayling|Corporate|Leeds|England|United Kingdom| North|OFF-LA-10001915|Office Supplies|      Labels|Avery Legal Exhib...| 35.19|       3|       0| 16.11|         35.19|\n",
            "|     4|ES-2017-1311038|07/02/2017|11/02/2017|Standard Class|   AS-10045|Aaron Smayling|Corporate|Leeds|England|United Kingdom| North|OFF-ST-10004550|Office Supplies|     Storage|Fellowes Folders,...| 50.94|       2|       0|  13.2|         50.94|\n",
            "+------+---------------+----------+----------+--------------+-----------+--------------+---------+-----+-------+--------------+------+---------------+---------------+------------+--------------------+------+--------+--------+------+--------------+\n",
            "only showing top 4 rows\n",
            "\n"
          ]
        }
      ],
      "source": [
        "# create a new column which is the value of the sale were there not discount applied. Hint: orginal = sales/(1-d)\n",
        "df = df.withColumn(\"Original_sales\", df['Sales']*(1-df['Discount']))\n",
        "df.show(4)"
      ],
      "id": "8d0fc034"
    },
    {
      "cell_type": "code",
      "execution_count": 20,
      "metadata": {
        "id": "ba0f9aa9",
        "colab": {
          "base_uri": "https://localhost:8080/"
        },
        "outputId": "f9877bd4-6cf3-41ae-9f02-240c0084ae39"
      },
      "outputs": [
        {
          "output_type": "stream",
          "name": "stdout",
          "text": [
            "+------+---------------+----------+----------+--------------+-----------+--------------+---------+-----+-------+--------------+------+---------------+---------------+------------+--------------------+------+--------+--------+------+--------------+----------+\n",
            "|Row ID|       Order ID|Order Date| Ship Date|     Ship Mode|Customer ID| Customer Name|  Segment| City|  State|       Country|Region|     Product ID|       Category|Sub-Category|        Product Name| Sales|Quantity|Discount|Profit|Original_sales|diff_Sales|\n",
            "+------+---------------+----------+----------+--------------+-----------+--------------+---------+-----+-------+--------------+------+---------------+---------------+------------+--------------------+------+--------+--------+------+--------------+----------+\n",
            "|     1|ES-2017-1311038|07/02/2017|11/02/2017|Standard Class|   AS-10045|Aaron Smayling|Corporate|Leeds|England|United Kingdom| North|OFF-ST-10000988|Office Supplies|     Storage|Fellowes Folders,...|  79.2|       3|       0|  39.6|          79.2|       0.0|\n",
            "|     2|ES-2017-1311038|07/02/2017|11/02/2017|Standard Class|   AS-10045|Aaron Smayling|Corporate|Leeds|England|United Kingdom| North|TEC-AC-10004144|     Technology| Accessories|SanDisk Numeric K...|388.92|       7|       0|     0|        388.92|       0.0|\n",
            "|     3|ES-2017-1311038|07/02/2017|11/02/2017|Standard Class|   AS-10045|Aaron Smayling|Corporate|Leeds|England|United Kingdom| North|OFF-LA-10001915|Office Supplies|      Labels|Avery Legal Exhib...| 35.19|       3|       0| 16.11|         35.19|       0.0|\n",
            "|     4|ES-2017-1311038|07/02/2017|11/02/2017|Standard Class|   AS-10045|Aaron Smayling|Corporate|Leeds|England|United Kingdom| North|OFF-ST-10004550|Office Supplies|     Storage|Fellowes Folders,...| 50.94|       2|       0|  13.2|         50.94|       0.0|\n",
            "+------+---------------+----------+----------+--------------+-----------+--------------+---------+-----+-------+--------------+------+---------------+---------------+------------+--------------------+------+--------+--------+------+--------------+----------+\n",
            "only showing top 4 rows\n",
            "\n"
          ]
        }
      ],
      "source": [
        "# calculate the difference between sales and discount value\n",
        "df = df.withColumn(\"diff_Sales\", df['Sales'] - df['Original_sales'])\n",
        "df.show(4)"
      ],
      "id": "ba0f9aa9"
    },
    {
      "cell_type": "code",
      "execution_count": 21,
      "metadata": {
        "id": "8e810f4f",
        "colab": {
          "base_uri": "https://localhost:8080/"
        },
        "outputId": "6713e1fc-9bf9-4aa7-9a35-d5882f197268"
      },
      "outputs": [
        {
          "output_type": "stream",
          "name": "stdout",
          "text": [
            "+--------+------------------+\n",
            "|Discount|   sum(diff_Sales)|\n",
            "+--------+------------------+\n",
            "|     0.3|1841.1687000000004|\n",
            "|     0.7|2560.2254999999996|\n",
            "|       0|               0.0|\n",
            "|     0.2|          8522.496|\n",
            "|    0.15| 38448.20002499999|\n",
            "|    0.35|18956.014349999998|\n",
            "|     0.8|          127.1328|\n",
            "|    0.45|       1145.892825|\n",
            "|     0.5| 91867.13250000023|\n",
            "|    0.65|       4276.879425|\n",
            "|     0.6|15857.618399999994|\n",
            "|     0.1|        76241.2041|\n",
            "|    0.85|          677.3157|\n",
            "|     0.4|28034.812799999996|\n",
            "+--------+------------------+\n",
            "\n"
          ]
        }
      ],
      "source": [
        "# how much money did we not gain due to the discounts - per discount bracket?\n",
        "res = df.groupBy('Discount').agg({\"diff_Sales\":\"sum\"})\n",
        "res.show()"
      ],
      "id": "8e810f4f"
    },
    {
      "cell_type": "code",
      "execution_count": 22,
      "metadata": {
        "id": "76aca9f2",
        "colab": {
          "base_uri": "https://localhost:8080/"
        },
        "outputId": "f4831f0b-d060-4546-e3fe-6d227bd04c47"
      },
      "outputs": [
        {
          "output_type": "execute_result",
          "data": {
            "text/plain": [
              "Row(Discount='0.5', sum(diff_Sales)=91867.13250000023)"
            ]
          },
          "metadata": {},
          "execution_count": 22
        }
      ],
      "source": [
        "# find the discount bracket which made us not gain the most (dynamically)\n",
        "data = res.orderBy('sum(diff_Sales)' , ascending=False)\n",
        "data.collect()[0]"
      ],
      "id": "76aca9f2"
    },
    {
      "cell_type": "code",
      "source": [
        "data.collect()[0][0]"
      ],
      "metadata": {
        "colab": {
          "base_uri": "https://localhost:8080/",
          "height": 35
        },
        "id": "h_ORC2bGV6gz",
        "outputId": "2368cc69-f21b-4be0-a118-7557a368d2ea"
      },
      "id": "h_ORC2bGV6gz",
      "execution_count": 23,
      "outputs": [
        {
          "output_type": "execute_result",
          "data": {
            "text/plain": [
              "'0.5'"
            ],
            "application/vnd.google.colaboratory.intrinsic+json": {
              "type": "string"
            }
          },
          "metadata": {},
          "execution_count": 23
        }
      ]
    },
    {
      "cell_type": "code",
      "execution_count": 24,
      "metadata": {
        "id": "0aa9b685",
        "colab": {
          "base_uri": "https://localhost:8080/"
        },
        "outputId": "80b11fb8-98a7-4594-dadb-50c3c53d4de3"
      },
      "outputs": [
        {
          "output_type": "stream",
          "name": "stdout",
          "text": [
            "+--------+\n",
            "|Discount|\n",
            "+--------+\n",
            "|     0.3|\n",
            "|     0.7|\n",
            "|       0|\n",
            "|     0.2|\n",
            "|    0.15|\n",
            "|    0.35|\n",
            "|     0.8|\n",
            "|    0.45|\n",
            "|    0.65|\n",
            "|     0.6|\n",
            "|     0.1|\n",
            "|    0.85|\n",
            "|     0.4|\n",
            "+--------+\n",
            "\n"
          ]
        }
      ],
      "source": [
        "# what would have been the total profit if we removed all orders from that discount group? \n",
        "df2 = df.filter( df['Discount']!=0.5)\n",
        "df2.select('Discount').distinct().show()"
      ],
      "id": "0aa9b685"
    },
    {
      "cell_type": "code",
      "source": [
        "from pyspark.sql.functions import sum\n",
        "df2.select( sum( df['Profit'])).collect()[0][0]"
      ],
      "metadata": {
        "colab": {
          "base_uri": "https://localhost:8080/"
        },
        "id": "oKOjdulmWStH",
        "outputId": "b9df9980-fcaf-4d50-e1c9-53cb019225dd"
      },
      "id": "oKOjdulmWStH",
      "execution_count": 25,
      "outputs": [
        {
          "output_type": "execute_result",
          "data": {
            "text/plain": [
              "469461.8565000003"
            ]
          },
          "metadata": {},
          "execution_count": 25
        }
      ]
    },
    {
      "cell_type": "code",
      "execution_count": 26,
      "metadata": {
        "id": "fca95e60",
        "colab": {
          "base_uri": "https://localhost:8080/"
        },
        "outputId": "708fea23-ddf5-41e9-b2d0-a3ae426aa865"
      },
      "outputs": [
        {
          "output_type": "execute_result",
          "data": {
            "text/plain": [
              "-96632.11499999976"
            ]
          },
          "metadata": {},
          "execution_count": 26
        }
      ],
      "source": [
        "#how much more (or less) profit is that?\n",
        "df.select( sum(df[\"Profit\"])).collect()[0][0] - df2.select( sum(df[\"Profit\"])).collect()[0][0] \n"
      ],
      "id": "fca95e60"
    },
    {
      "cell_type": "code",
      "execution_count": 31,
      "metadata": {
        "id": "0fb49200"
      },
      "outputs": [],
      "source": [
        "# create a temporary table for our superstore table in sql\n",
        "df.createOrReplaceTempView('df')"
      ],
      "id": "0fb49200"
    },
    {
      "cell_type": "code",
      "execution_count": 33,
      "metadata": {
        "id": "a23e0bca",
        "colab": {
          "base_uri": "https://localhost:8080/"
        },
        "outputId": "118c8792-69d5-4913-fed8-5406763414ec"
      },
      "outputs": [
        {
          "output_type": "stream",
          "name": "stdout",
          "text": [
            "+--------+\n",
            "|count(1)|\n",
            "+--------+\n",
            "|   10000|\n",
            "+--------+\n",
            "\n"
          ]
        }
      ],
      "source": [
        "# use an SQL query to count the number of rows\n",
        "a = spark.sql(\"SELECT count(*) FROM df\")\n",
        "a.show()"
      ],
      "id": "a23e0bca"
    },
    {
      "cell_type": "code",
      "execution_count": 39,
      "metadata": {
        "id": "8e2cf9f2",
        "colab": {
          "base_uri": "https://localhost:8080/"
        },
        "outputId": "330db046-d5c9-4715-f847-cf1c1ce12ac5"
      },
      "outputs": [
        {
          "output_type": "stream",
          "name": "stdout",
          "text": [
            "+--------------+-------------------+------------------+--------------------+\n",
            "|       Country|        sum(Profit)|        sum(Sales)|        Profit_Ratio|\n",
            "+--------------+-------------------+------------------+--------------------+\n",
            "|        Sweden|-17519.366999999987|         30491.403| -0.5745674280714466|\n",
            "|       Germany| 107322.82049999991| 628840.0305000001| 0.17066792076621765|\n",
            "|        France| 109029.00299999975|  858931.082999999| 0.12693568221933804|\n",
            "|       Belgium|           11572.59| 49226.70000000003| 0.23508766583987942|\n",
            "|       Finland|            3905.73|20704.350000000002| 0.18864296633316185|\n",
            "|         Italy| 19828.757999999965|289709.65799999936| 0.06844355185424991|\n",
            "|        Norway|            5167.77|20525.370000000003|  0.2517747548521659|\n",
            "|         Spain|  54390.11999999999| 287146.6800000002| 0.18941580658358978|\n",
            "|       Denmark|-4282.0470000000005| 8638.053000000002| -0.4957190005664471|\n",
            "|       Ireland| -7392.381000000003|16639.508999999995|-0.44426677493909256|\n",
            "|   Switzerland|  7237.470000000001|24877.860000000004|  0.2909201193350232|\n",
            "|      Portugal| -8703.059999999998|          15105.12| -0.5761662270806188|\n",
            "|       Austria|           21442.26| 81162.00000000006|  0.2641908775042505|\n",
            "|United Kingdom| 111900.15000000001| 528576.2999999992| 0.21170103540397134|\n",
            "|   Netherlands| -41070.07499999996| 77514.94500000008| -0.5298342790541865|\n",
            "+--------------+-------------------+------------------+--------------------+\n",
            "\n"
          ]
        }
      ],
      "source": [
        "# Use an SQL query to calculate the profit ratio for each country: hint, ratio is sum(profit)/sum(sales)\n",
        "data = spark.sql(\" SELECT Country, SUM(Profit), SUM(Sales) , SUM(Profit)/SUM(Sales) as Profit_Ratio FROM df GROUP BY Country\")\n",
        "data.show()"
      ],
      "id": "8e2cf9f2"
    },
    {
      "cell_type": "code",
      "execution_count": 43,
      "metadata": {
        "id": "f8cdd772",
        "colab": {
          "base_uri": "https://localhost:8080/",
          "height": 35
        },
        "outputId": "39543099-a0f1-43a1-b1c3-88775551f0ca"
      },
      "outputs": [
        {
          "output_type": "execute_result",
          "data": {
            "text/plain": [
              "'United Kingdom'"
            ],
            "application/vnd.google.colaboratory.intrinsic+json": {
              "type": "string"
            }
          },
          "metadata": {},
          "execution_count": 43
        }
      ],
      "source": [
        "# is the country with the largest profit ratio, the country with the largest profit?\n",
        "data.orderBy('sum(Profit)', ascending = False).collect()[0][0]"
      ],
      "id": "f8cdd772"
    },
    {
      "cell_type": "code",
      "source": [
        "data.orderBy('Profit_Ratio', ascending = False).collect()[0][0]"
      ],
      "metadata": {
        "colab": {
          "base_uri": "https://localhost:8080/",
          "height": 35
        },
        "id": "CWvh6DdQgizs",
        "outputId": "4a8d8a46-0d5a-45b3-ef1c-6b481ac370af"
      },
      "id": "CWvh6DdQgizs",
      "execution_count": 44,
      "outputs": [
        {
          "output_type": "execute_result",
          "data": {
            "text/plain": [
              "'Switzerland'"
            ],
            "application/vnd.google.colaboratory.intrinsic+json": {
              "type": "string"
            }
          },
          "metadata": {},
          "execution_count": 44
        }
      ]
    }
  ],
  "metadata": {
    "colab": {
      "provenance": []
    },
    "kernelspec": {
      "display_name": "Python 3 (ipykernel)",
      "language": "python",
      "name": "python3"
    },
    "language_info": {
      "codemirror_mode": {
        "name": "ipython",
        "version": 3
      },
      "file_extension": ".py",
      "mimetype": "text/x-python",
      "name": "python",
      "nbconvert_exporter": "python",
      "pygments_lexer": "ipython3",
      "version": "3.9.7"
    }
  },
  "nbformat": 4,
  "nbformat_minor": 5
}